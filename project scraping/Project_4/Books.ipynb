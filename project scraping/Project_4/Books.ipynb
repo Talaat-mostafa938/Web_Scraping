{
 "cells": [
  {
   "cell_type": "code",
   "execution_count": 93,
   "id": "6359897f-0655-4221-a2ed-51a652779d15",
   "metadata": {},
   "outputs": [],
   "source": [
    "import requests\n",
    "from bs4 import BeautifulSoup\n",
    "import csv\n",
    "import pandas as pd"
   ]
  },
  {
   "cell_type": "code",
   "execution_count": 95,
   "id": "6a70ffdd-ad71-4265-8d3c-f355ec7ce978",
   "metadata": {},
   "outputs": [],
   "source": [
    "base_url = 'https://books.toscrape.com/catalogue/page-{}.html'"
   ]
  },
  {
   "cell_type": "code",
   "execution_count": 97,
   "id": "51aa6d6c-4ba5-4ff5-baaa-7bf067ca7c6b",
   "metadata": {},
   "outputs": [],
   "source": [
    "page_number = 1\n",
    "Books =[]\n",
    "while True:\n",
    "    url = base_url.format(page_number)\n",
    "\n",
    "    response = requests.get(url)\n",
    "    if response.status_code != 200:\n",
    "        break\n",
    "\n",
    "    html_content = response.content\n",
    "\n",
    "    soup = BeautifulSoup(html_content, 'html.parser')\n",
    "\n",
    "    books = soup.find_all('article', class_='product_pod')\n",
    "\n",
    "    for book in books:\n",
    "        title = book.h3.a['title']\n",
    "        price = book.find('p', class_='price_color').text\n",
    "        \n",
    "        rating = 'No rating' if 'star-rating' not in str(book) else book.find('p', class_='star-rating')['class'][-1]\n",
    "        Books.append([title ,price ,rating])\n",
    "        \n",
    "    page_number += 1"
   ]
  },
  {
   "cell_type": "code",
   "execution_count": 98,
   "id": "c954efd1-cb26-45ea-8d93-ce0762e73cbc",
   "metadata": {},
   "outputs": [],
   "source": [
    "df=pd.DataFrame(Books , columns=['Title', 'Price', 'Star Rating'])"
   ]
  },
  {
   "cell_type": "code",
   "execution_count": 99,
   "id": "45c5999d-84d3-4244-aeb9-11d460fd114c",
   "metadata": {},
   "outputs": [],
   "source": [
    "df.to_csv('Books information.csv',index=False , encoding='utf-8-sig' )"
   ]
  },
  {
   "cell_type": "code",
   "execution_count": null,
   "id": "f72bbf83-b015-4885-83e9-7e4ed190871a",
   "metadata": {},
   "outputs": [],
   "source": []
  }
 ],
 "metadata": {
  "kernelspec": {
   "display_name": "Python 3 (ipykernel)",
   "language": "python",
   "name": "python3"
  },
  "language_info": {
   "codemirror_mode": {
    "name": "ipython",
    "version": 3
   },
   "file_extension": ".py",
   "mimetype": "text/x-python",
   "name": "python",
   "nbconvert_exporter": "python",
   "pygments_lexer": "ipython3",
   "version": "3.12.4"
  }
 },
 "nbformat": 4,
 "nbformat_minor": 5
}
