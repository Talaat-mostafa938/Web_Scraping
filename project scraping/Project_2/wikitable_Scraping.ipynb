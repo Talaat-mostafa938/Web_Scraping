{
 "cells": [
  {
   "cell_type": "markdown",
   "id": "646c902c-d29a-4c66-ad7c-fcc02d3d78c4",
   "metadata": {},
   "source": [
    "# wikitable"
   ]
  },
  {
   "cell_type": "code",
   "execution_count": 25,
   "id": "aa7f8ef3-13fb-4123-ad53-6938536e7f47",
   "metadata": {},
   "outputs": [],
   "source": [
    "import requests\n",
    "from bs4 import BeautifulSoup\n",
    "import pandas as pd\n",
    "import csv"
   ]
  },
  {
   "cell_type": "code",
   "execution_count": 27,
   "id": "acd60f20-f6c6-485c-894f-4322828a1571",
   "metadata": {},
   "outputs": [],
   "source": [
    "# Define the URL of the Wikipedia page\n",
    "url = 'https://en.wikipedia.org/wiki/List_of_largest_companies_in_the_United_States_by_revenue'"
   ]
  },
  {
   "cell_type": "code",
   "execution_count": 29,
   "id": "19562854-5097-4e90-b83a-a09099581731",
   "metadata": {},
   "outputs": [],
   "source": [
    "# Send an HTTP GET request to the URL\n",
    "response = requests.get(url)\n",
    "html_content = response.content\n"
   ]
  },
  {
   "cell_type": "code",
   "execution_count": 31,
   "id": "70114605-d703-4156-b93f-ae11db102c79",
   "metadata": {},
   "outputs": [],
   "source": [
    "soup = BeautifulSoup(html_content, 'html.parser')"
   ]
  },
  {
   "cell_type": "code",
   "execution_count": 33,
   "id": "8938cc04-4797-40cf-8545-a4f7e28716de",
   "metadata": {},
   "outputs": [],
   "source": [
    "table = soup.find('table', class_='wikitable')"
   ]
  },
  {
   "cell_type": "code",
   "execution_count": 35,
   "id": "1cefbdb4-4d02-49a8-b4fa-a718c030ae8a",
   "metadata": {},
   "outputs": [],
   "source": [
    "csvfile=open('wikitable.csv' , 'w' ,encoding='utf-8')\n",
    "write=csv.writer(csvfile)"
   ]
  },
  {
   "cell_type": "code",
   "execution_count": 37,
   "id": "9613c72b-1eb7-4a75-b1d2-70a197949522",
   "metadata": {},
   "outputs": [
    {
     "data": {
      "text/plain": [
       "27"
      ]
     },
     "execution_count": 37,
     "metadata": {},
     "output_type": "execute_result"
    }
   ],
   "source": [
    "write.writerow(['Company' , 'Revenue' , 'Employees'])"
   ]
  },
  {
   "cell_type": "code",
   "execution_count": 39,
   "id": "b91f3ecc-0bc2-423b-93aa-5d3484834f5a",
   "metadata": {},
   "outputs": [],
   "source": [
    "# Extract company names and revenues\n",
    "companies = []\n",
    "\n",
    "for row in table.find('tbody').find_all('tr'):\n",
    "    columns = row.find_all('td')\n",
    "    if len(columns) >= 2:\n",
    "        company_name = columns[1].text.strip()\n",
    "        revenue = columns[3].get_text(strip=True)\n",
    "        employees = columns[5].text.strip()\n",
    "        write.writerow([company_name ,revenue,employees])\n",
    "        # companies.append({'Company': company_name, 'Revenue': revenue, 'Employees':employees})"
   ]
  },
  {
   "cell_type": "code",
   "execution_count": 41,
   "id": "cb89e589-daa5-4c25-8b97-6bf79af6aa5d",
   "metadata": {},
   "outputs": [],
   "source": [
    "csvfile.close()"
   ]
  },
  {
   "cell_type": "code",
   "execution_count": 43,
   "id": "11337077-b0d2-4559-ad00-ab18540c6a01",
   "metadata": {},
   "outputs": [],
   "source": [
    "df=pd.read_csv('wikitable.csv')\n",
    "df.to_csv('wikitable_info.csv',  index=False , encoding='utf-8-sig' )"
   ]
  },
  {
   "cell_type": "code",
   "execution_count": null,
   "id": "02f66dad-7523-492b-962f-97074c160df5",
   "metadata": {},
   "outputs": [],
   "source": []
  }
 ],
 "metadata": {
  "kernelspec": {
   "display_name": "Python 3 (ipykernel)",
   "language": "python",
   "name": "python3"
  },
  "language_info": {
   "codemirror_mode": {
    "name": "ipython",
    "version": 3
   },
   "file_extension": ".py",
   "mimetype": "text/x-python",
   "name": "python",
   "nbconvert_exporter": "python",
   "pygments_lexer": "ipython3",
   "version": "3.12.4"
  }
 },
 "nbformat": 4,
 "nbformat_minor": 5
}
