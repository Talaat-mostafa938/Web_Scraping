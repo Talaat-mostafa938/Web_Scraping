{
 "cells": [
  {
   "cell_type": "code",
   "execution_count": 184,
   "id": "6e197e86-ac36-45fa-990a-72d86d82b3b3",
   "metadata": {},
   "outputs": [],
   "source": [
    "import requests\n",
    "from bs4 import BeautifulSoup\n",
    "import csv\n",
    "import pandas as pd"
   ]
  },
  {
   "cell_type": "code",
   "execution_count": 186,
   "id": "35401252-36b2-4fe9-bc8a-bff6ca6fe6d6",
   "metadata": {},
   "outputs": [],
   "source": [
    "url = 'https://www.yallakora.com/Match-Center/?date=18/21/2023'"
   ]
  },
  {
   "cell_type": "code",
   "execution_count": 188,
   "id": "ba6e0dc9-a325-4e28-9d46-cb081967cf92",
   "metadata": {},
   "outputs": [],
   "source": [
    "response = requests.get(url)"
   ]
  },
  {
   "cell_type": "code",
   "execution_count": 190,
   "id": "8bd514f9-f83d-410d-bb49-d68d29bb6dbb",
   "metadata": {},
   "outputs": [],
   "source": [
    "html_content = response.content"
   ]
  },
  {
   "cell_type": "code",
   "execution_count": 192,
   "id": "ad1e2dbb-9192-4865-bf05-f30f22afc837",
   "metadata": {},
   "outputs": [],
   "source": [
    "soup = BeautifulSoup(html_content, 'html.parser')"
   ]
  },
  {
   "cell_type": "code",
   "execution_count": 194,
   "id": "b69169bc-ab81-4cc3-9e04-55b594e4a742",
   "metadata": {},
   "outputs": [],
   "source": [
    "championships = soup.find_all('div', class_='matchCard')"
   ]
  },
  {
   "cell_type": "code",
   "execution_count": 196,
   "id": "c4487d10-83b2-4802-8b88-ab07b2fcb89b",
   "metadata": {},
   "outputs": [],
   "source": [
    "csvfile=open('Match.csv' ,'w' ,encoding='utf-8')\n",
    "writer=csv.writer(csvfile)"
   ]
  },
  {
   "cell_type": "code",
   "execution_count": 198,
   "id": "bae1b091-3111-4976-97a2-3d6f85847047",
   "metadata": {},
   "outputs": [
    {
     "data": {
      "text/plain": [
       "42"
      ]
     },
     "execution_count": 198,
     "metadata": {},
     "output_type": "execute_result"
    }
   ],
   "source": [
    "writer.writerow(['championship_name' ,'teamA' ,'score','teamB','time'])"
   ]
  },
  {
   "cell_type": "code",
   "execution_count": 200,
   "id": "c4d75221-9f10-446b-bfc4-ab6765bba3af",
   "metadata": {},
   "outputs": [],
   "source": [
    "for i in range(len(championships)):\n",
    "\n",
    "    championship_name = championships[i].contents[1].find('h2').text.strip()\n",
    "\n",
    "    matches = championships[i].contents[3].find_all('div', class_='teamCntnr')\n",
    "    for j in range(len(matches)):\n",
    "        teamA = matches[j].find('div', {'class':'teamA'}).text.strip()\n",
    "        teamB = matches[j].find('div', {'class':'teamB'}).text.strip()\n",
    "\n",
    "        score = f'{results[0].text.strip()} - {results[1].text.strip()}'\n",
    "\n",
    "        time = matches[j].find('div', {'class':'MResult'}).find('span', {'class':'time'}).text.strip()\n",
    "        writer.writerow([championship_name, teamA, score, teamB, time])\n",
    "        "
   ]
  },
  {
   "cell_type": "code",
   "execution_count": 202,
   "id": "61a58160-ca26-4039-b78c-2cd6bf3cd4cc",
   "metadata": {},
   "outputs": [],
   "source": [
    "csvfile.close()"
   ]
  },
  {
   "cell_type": "code",
   "execution_count": 204,
   "id": "4a93bbcc-691e-453e-883b-e8d3c8784d2f",
   "metadata": {},
   "outputs": [],
   "source": [
    "df=pd.read_csv(\"Match.csv\")"
   ]
  },
  {
   "cell_type": "code",
   "execution_count": 206,
   "id": "2d039f86-7aee-4e85-8470-c87471fd3430",
   "metadata": {},
   "outputs": [],
   "source": [
    "df.to_csv('Matchs_info.csv',  index=False , encoding='utf-8-sig' )"
   ]
  },
  {
   "cell_type": "code",
   "execution_count": null,
   "id": "81babf46-c651-4df7-97d5-0a0041a67fe3",
   "metadata": {},
   "outputs": [],
   "source": []
  },
  {
   "cell_type": "code",
   "execution_count": null,
   "id": "3771b9f7-3c74-494d-a2f8-5b808c445b27",
   "metadata": {},
   "outputs": [],
   "source": []
  },
  {
   "cell_type": "code",
   "execution_count": null,
   "id": "0b263f26-9bfe-43d2-882b-86cde95bb98c",
   "metadata": {},
   "outputs": [],
   "source": []
  },
  {
   "cell_type": "code",
   "execution_count": null,
   "id": "86ca483e-d0a8-4f76-8f36-57985bba9d7d",
   "metadata": {},
   "outputs": [],
   "source": []
  }
 ],
 "metadata": {
  "kernelspec": {
   "display_name": "Python 3 (ipykernel)",
   "language": "python",
   "name": "python3"
  },
  "language_info": {
   "codemirror_mode": {
    "name": "ipython",
    "version": 3
   },
   "file_extension": ".py",
   "mimetype": "text/x-python",
   "name": "python",
   "nbconvert_exporter": "python",
   "pygments_lexer": "ipython3",
   "version": "3.12.4"
  }
 },
 "nbformat": 4,
 "nbformat_minor": 5
}
