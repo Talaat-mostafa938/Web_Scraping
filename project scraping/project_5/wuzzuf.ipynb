{
 "cells": [
  {
   "cell_type": "code",
   "execution_count": 181,
   "id": "57a06724-d639-4dcc-a194-0e7f9d648602",
   "metadata": {},
   "outputs": [],
   "source": [
    "import requests\n",
    "from bs4 import BeautifulSoup\n",
    "import csv"
   ]
  },
  {
   "cell_type": "code",
   "execution_count": 183,
   "id": "00000211-a2e9-41f6-833d-e0de4b40c122",
   "metadata": {},
   "outputs": [],
   "source": [
    "import pandas as pd"
   ]
  },
  {
   "cell_type": "code",
   "execution_count": 250,
   "id": "fec1b248-66e8-41e0-9a37-96e40eb8fd5e",
   "metadata": {},
   "outputs": [],
   "source": [
    "csv_file=open('jops.csv' , 'w' ,encoding='utf-8')\n",
    "write=csv.writer(csv_file)"
   ]
  },
  {
   "cell_type": "code",
   "execution_count": 252,
   "id": "87f95c16-beff-4e4a-8968-2b8c1c2b786d",
   "metadata": {},
   "outputs": [
    {
     "data": {
      "text/plain": [
       "36"
      ]
     },
     "execution_count": 252,
     "metadata": {},
     "output_type": "execute_result"
    }
   ],
   "source": [
    "write.writerow(['jop_title','Company' , 'address' , 'jop_type'])\n"
   ]
  },
  {
   "cell_type": "code",
   "execution_count": 254,
   "id": "45e4519b-c8a5-4627-9cbb-f7c43d38da54",
   "metadata": {},
   "outputs": [],
   "source": [
    "for i in range(20):\n",
    "    url =f\"https://wuzzuf.net/search/jobs/?q=&start={i}\"\n",
    "    respons = requests.get(url).text\n",
    "    html_contant = BeautifulSoup(respons,\"html\")\n",
    "    Jops = html_contant.find_all(\"div\",class_=\"css-pkv5jc\")\n",
    "    for Jop in Jops:\n",
    "        joptitle = Jop.find(\"h2\" , class_=\"css-m604qf\").a.text\n",
    "        company = Jop.find(\"div\" , class_=\"css-d7j1kk\").a.text\n",
    "        addess = Jop.find(\"span\" , class_=\"css-5wys0k\").text\n",
    "        joptype = Jop.find(\"span\" , class_=\"css-1ve4b75 eoyjyou0\").text\n",
    "        jop_title.append(joptitle)\n",
    "        Company.append(company)\n",
    "        address.append(addess)\n",
    "        jop_type.append(joptype)\n",
    "        write.writerow([joptitle , company , addess , joptype])\n"
   ]
  },
  {
   "cell_type": "code",
   "execution_count": 255,
   "id": "d77d70e2-dc24-4a7b-9ddd-e1c29e770d0d",
   "metadata": {},
   "outputs": [],
   "source": [
    "csv_file.close()"
   ]
  },
  {
   "cell_type": "code",
   "execution_count": 256,
   "id": "87962da6-d592-4771-9c1d-72f362c18f62",
   "metadata": {},
   "outputs": [],
   "source": [
    "data_set = pd.read_csv('jops.csv')"
   ]
  },
  {
   "cell_type": "code",
   "execution_count": 257,
   "id": "a19d9e25-84cc-4bac-a994-c88d4f9ff130",
   "metadata": {},
   "outputs": [
    {
     "data": {
      "text/plain": [
       "300"
      ]
     },
     "execution_count": 257,
     "metadata": {},
     "output_type": "execute_result"
    }
   ],
   "source": [
    "len(data_set)"
   ]
  },
  {
   "cell_type": "code",
   "execution_count": 258,
   "id": "89bec368-02f9-4be8-ac92-542d1b844d5f",
   "metadata": {},
   "outputs": [
    {
     "data": {
      "text/html": [
       "<div>\n",
       "<style scoped>\n",
       "    .dataframe tbody tr th:only-of-type {\n",
       "        vertical-align: middle;\n",
       "    }\n",
       "\n",
       "    .dataframe tbody tr th {\n",
       "        vertical-align: top;\n",
       "    }\n",
       "\n",
       "    .dataframe thead th {\n",
       "        text-align: right;\n",
       "    }\n",
       "</style>\n",
       "<table border=\"1\" class=\"dataframe\">\n",
       "  <thead>\n",
       "    <tr style=\"text-align: right;\">\n",
       "      <th></th>\n",
       "      <th>jop_title</th>\n",
       "      <th>Company</th>\n",
       "      <th>address</th>\n",
       "      <th>jop_type</th>\n",
       "    </tr>\n",
       "  </thead>\n",
       "  <tbody>\n",
       "    <tr>\n",
       "      <th>0</th>\n",
       "      <td>Mobile app developer (React Native)</td>\n",
       "      <td>Leggera -</td>\n",
       "      <td>San Stefano, Alexandria, Egypt</td>\n",
       "      <td>Full Time</td>\n",
       "    </tr>\n",
       "    <tr>\n",
       "      <th>1</th>\n",
       "      <td>HTML Implementation Specialist</td>\n",
       "      <td>Options -</td>\n",
       "      <td>Cairo, Egypt</td>\n",
       "      <td>Full Time</td>\n",
       "    </tr>\n",
       "    <tr>\n",
       "      <th>2</th>\n",
       "      <td>Full Stack Developer</td>\n",
       "      <td>Leggera -</td>\n",
       "      <td>San Stefano, Alexandria, Egypt</td>\n",
       "      <td>Full Time</td>\n",
       "    </tr>\n",
       "    <tr>\n",
       "      <th>3</th>\n",
       "      <td>Senior HR Representative</td>\n",
       "      <td>Options -</td>\n",
       "      <td>Mohandessin, Giza, Egypt</td>\n",
       "      <td>Full Time</td>\n",
       "    </tr>\n",
       "    <tr>\n",
       "      <th>4</th>\n",
       "      <td>Human Resource Recruiter</td>\n",
       "      <td>Intelligent for field Marketing -</td>\n",
       "      <td>Nasr City, Cairo, Egypt</td>\n",
       "      <td>Full Time</td>\n",
       "    </tr>\n",
       "  </tbody>\n",
       "</table>\n",
       "</div>"
      ],
      "text/plain": [
       "                             jop_title                            Company  \\\n",
       "0  Mobile app developer (React Native)                          Leggera -   \n",
       "1       HTML Implementation Specialist                          Options -   \n",
       "2                 Full Stack Developer                          Leggera -   \n",
       "3             Senior HR Representative                          Options -   \n",
       "4             Human Resource Recruiter  Intelligent for field Marketing -   \n",
       "\n",
       "                           address   jop_type  \n",
       "0  San Stefano, Alexandria, Egypt   Full Time  \n",
       "1                    Cairo, Egypt   Full Time  \n",
       "2  San Stefano, Alexandria, Egypt   Full Time  \n",
       "3        Mohandessin, Giza, Egypt   Full Time  \n",
       "4         Nasr City, Cairo, Egypt   Full Time  "
      ]
     },
     "execution_count": 258,
     "metadata": {},
     "output_type": "execute_result"
    }
   ],
   "source": [
    "data_set.head()"
   ]
  },
  {
   "cell_type": "code",
   "execution_count": 259,
   "id": "e53026d3-7962-4b94-8432-f7369ddb75d7",
   "metadata": {},
   "outputs": [],
   "source": [
    "data_set.to_csv('wuzzuf_info.csv',  index=False , encoding='utf-8-sig' )\n"
   ]
  }
 ],
 "metadata": {
  "kernelspec": {
   "display_name": "Python 3 (ipykernel)",
   "language": "python",
   "name": "python3"
  },
  "language_info": {
   "codemirror_mode": {
    "name": "ipython",
    "version": 3
   },
   "file_extension": ".py",
   "mimetype": "text/x-python",
   "name": "python",
   "nbconvert_exporter": "python",
   "pygments_lexer": "ipython3",
   "version": "3.12.4"
  }
 },
 "nbformat": 4,
 "nbformat_minor": 5
}
